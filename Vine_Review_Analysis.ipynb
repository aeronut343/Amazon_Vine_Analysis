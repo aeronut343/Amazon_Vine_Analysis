{
 "cells": [
  {
   "cell_type": "code",
   "execution_count": 2,
   "metadata": {},
   "outputs": [],
   "source": [
    "import pandas as pd"
   ]
  },
  {
   "cell_type": "code",
   "execution_count": 3,
   "metadata": {},
   "outputs": [
    {
     "data": {
      "text/html": [
       "<div>\n",
       "<style scoped>\n",
       "    .dataframe tbody tr th:only-of-type {\n",
       "        vertical-align: middle;\n",
       "    }\n",
       "\n",
       "    .dataframe tbody tr th {\n",
       "        vertical-align: top;\n",
       "    }\n",
       "\n",
       "    .dataframe thead th {\n",
       "        text-align: right;\n",
       "    }\n",
       "</style>\n",
       "<table border=\"1\" class=\"dataframe\">\n",
       "  <thead>\n",
       "    <tr style=\"text-align: right;\">\n",
       "      <th></th>\n",
       "      <th>review_id</th>\n",
       "      <th>star_rating</th>\n",
       "      <th>helpful_votes</th>\n",
       "      <th>total_votes</th>\n",
       "      <th>vine</th>\n",
       "      <th>verified_purchase</th>\n",
       "    </tr>\n",
       "  </thead>\n",
       "  <tbody>\n",
       "    <tr>\n",
       "      <th>0</th>\n",
       "      <td>RTIS3L2M1F5SM</td>\n",
       "      <td>5</td>\n",
       "      <td>0</td>\n",
       "      <td>0</td>\n",
       "      <td>N</td>\n",
       "      <td>Y</td>\n",
       "    </tr>\n",
       "    <tr>\n",
       "      <th>1</th>\n",
       "      <td>R1ZV7R40OLHKD</td>\n",
       "      <td>5</td>\n",
       "      <td>0</td>\n",
       "      <td>0</td>\n",
       "      <td>N</td>\n",
       "      <td>Y</td>\n",
       "    </tr>\n",
       "    <tr>\n",
       "      <th>2</th>\n",
       "      <td>R3BH071QLH8QMC</td>\n",
       "      <td>1</td>\n",
       "      <td>0</td>\n",
       "      <td>1</td>\n",
       "      <td>N</td>\n",
       "      <td>Y</td>\n",
       "    </tr>\n",
       "    <tr>\n",
       "      <th>3</th>\n",
       "      <td>R127K9NTSXA2YH</td>\n",
       "      <td>3</td>\n",
       "      <td>0</td>\n",
       "      <td>0</td>\n",
       "      <td>N</td>\n",
       "      <td>Y</td>\n",
       "    </tr>\n",
       "    <tr>\n",
       "      <th>4</th>\n",
       "      <td>R32ZWUXDJPW27Q</td>\n",
       "      <td>4</td>\n",
       "      <td>0</td>\n",
       "      <td>0</td>\n",
       "      <td>N</td>\n",
       "      <td>Y</td>\n",
       "    </tr>\n",
       "  </tbody>\n",
       "</table>\n",
       "</div>"
      ],
      "text/plain": [
       "        review_id  star_rating  helpful_votes  total_votes vine  \\\n",
       "0   RTIS3L2M1F5SM            5              0            0    N   \n",
       "1   R1ZV7R40OLHKD            5              0            0    N   \n",
       "2  R3BH071QLH8QMC            1              0            1    N   \n",
       "3  R127K9NTSXA2YH            3              0            0    N   \n",
       "4  R32ZWUXDJPW27Q            4              0            0    N   \n",
       "\n",
       "  verified_purchase  \n",
       "0                 Y  \n",
       "1                 Y  \n",
       "2                 Y  \n",
       "3                 Y  \n",
       "4                 Y  "
      ]
     },
     "execution_count": 3,
     "metadata": {},
     "output_type": "execute_result"
    }
   ],
   "source": [
    "vine_df = pd.read_csv(\"vine_table.csv\")\n",
    "vine_df.head()"
   ]
  },
  {
   "cell_type": "code",
   "execution_count": 4,
   "metadata": {},
   "outputs": [
    {
     "data": {
      "text/html": [
       "<div>\n",
       "<style scoped>\n",
       "    .dataframe tbody tr th:only-of-type {\n",
       "        vertical-align: middle;\n",
       "    }\n",
       "\n",
       "    .dataframe tbody tr th {\n",
       "        vertical-align: top;\n",
       "    }\n",
       "\n",
       "    .dataframe thead th {\n",
       "        text-align: right;\n",
       "    }\n",
       "</style>\n",
       "<table border=\"1\" class=\"dataframe\">\n",
       "  <thead>\n",
       "    <tr style=\"text-align: right;\">\n",
       "      <th></th>\n",
       "      <th>review_id</th>\n",
       "      <th>star_rating</th>\n",
       "      <th>helpful_votes</th>\n",
       "      <th>total_votes</th>\n",
       "      <th>vine</th>\n",
       "      <th>verified_purchase</th>\n",
       "    </tr>\n",
       "  </thead>\n",
       "  <tbody>\n",
       "    <tr>\n",
       "      <th>55</th>\n",
       "      <td>R4PKAZRQJJX14</td>\n",
       "      <td>1</td>\n",
       "      <td>21</td>\n",
       "      <td>34</td>\n",
       "      <td>N</td>\n",
       "      <td>N</td>\n",
       "    </tr>\n",
       "    <tr>\n",
       "      <th>74</th>\n",
       "      <td>R2CI0Y288CC7E2</td>\n",
       "      <td>1</td>\n",
       "      <td>21</td>\n",
       "      <td>35</td>\n",
       "      <td>N</td>\n",
       "      <td>Y</td>\n",
       "    </tr>\n",
       "    <tr>\n",
       "      <th>209</th>\n",
       "      <td>R127WEQY2FM1T3</td>\n",
       "      <td>1</td>\n",
       "      <td>147</td>\n",
       "      <td>175</td>\n",
       "      <td>N</td>\n",
       "      <td>Y</td>\n",
       "    </tr>\n",
       "    <tr>\n",
       "      <th>289</th>\n",
       "      <td>R3EZ0EPYLDA34S</td>\n",
       "      <td>1</td>\n",
       "      <td>14</td>\n",
       "      <td>31</td>\n",
       "      <td>N</td>\n",
       "      <td>Y</td>\n",
       "    </tr>\n",
       "    <tr>\n",
       "      <th>483</th>\n",
       "      <td>R2FJ94555FZH32</td>\n",
       "      <td>2</td>\n",
       "      <td>55</td>\n",
       "      <td>60</td>\n",
       "      <td>N</td>\n",
       "      <td>N</td>\n",
       "    </tr>\n",
       "    <tr>\n",
       "      <th>537</th>\n",
       "      <td>R1U3AR67RE273L</td>\n",
       "      <td>1</td>\n",
       "      <td>51</td>\n",
       "      <td>65</td>\n",
       "      <td>N</td>\n",
       "      <td>Y</td>\n",
       "    </tr>\n",
       "    <tr>\n",
       "      <th>670</th>\n",
       "      <td>R3PZOXA5X1U8KW</td>\n",
       "      <td>4</td>\n",
       "      <td>31</td>\n",
       "      <td>36</td>\n",
       "      <td>N</td>\n",
       "      <td>N</td>\n",
       "    </tr>\n",
       "    <tr>\n",
       "      <th>1359</th>\n",
       "      <td>R6KTC1OPIOIIG</td>\n",
       "      <td>2</td>\n",
       "      <td>19</td>\n",
       "      <td>34</td>\n",
       "      <td>N</td>\n",
       "      <td>Y</td>\n",
       "    </tr>\n",
       "    <tr>\n",
       "      <th>1402</th>\n",
       "      <td>R36O341WWXXKNP</td>\n",
       "      <td>5</td>\n",
       "      <td>28</td>\n",
       "      <td>31</td>\n",
       "      <td>N</td>\n",
       "      <td>N</td>\n",
       "    </tr>\n",
       "    <tr>\n",
       "      <th>1450</th>\n",
       "      <td>R3GSK9MM8DNOYI</td>\n",
       "      <td>1</td>\n",
       "      <td>4</td>\n",
       "      <td>32</td>\n",
       "      <td>N</td>\n",
       "      <td>N</td>\n",
       "    </tr>\n",
       "  </tbody>\n",
       "</table>\n",
       "</div>"
      ],
      "text/plain": [
       "           review_id  star_rating  helpful_votes  total_votes vine  \\\n",
       "55     R4PKAZRQJJX14            1             21           34    N   \n",
       "74    R2CI0Y288CC7E2            1             21           35    N   \n",
       "209   R127WEQY2FM1T3            1            147          175    N   \n",
       "289   R3EZ0EPYLDA34S            1             14           31    N   \n",
       "483   R2FJ94555FZH32            2             55           60    N   \n",
       "537   R1U3AR67RE273L            1             51           65    N   \n",
       "670   R3PZOXA5X1U8KW            4             31           36    N   \n",
       "1359   R6KTC1OPIOIIG            2             19           34    N   \n",
       "1402  R36O341WWXXKNP            5             28           31    N   \n",
       "1450  R3GSK9MM8DNOYI            1              4           32    N   \n",
       "\n",
       "     verified_purchase  \n",
       "55                   N  \n",
       "74                   Y  \n",
       "209                  Y  \n",
       "289                  Y  \n",
       "483                  N  \n",
       "537                  Y  \n",
       "670                  N  \n",
       "1359                 Y  \n",
       "1402                 N  \n",
       "1450                 N  "
      ]
     },
     "execution_count": 4,
     "metadata": {},
     "output_type": "execute_result"
    }
   ],
   "source": [
    "filtered_vine_df = vine_df.loc[(vine_df[\"total_votes\"] >= 20) & (vine_df[\"helpful_votes\"] >= 1)]\n",
    "filtered_vine_df.head(10)"
   ]
  },
  {
   "cell_type": "code",
   "execution_count": 5,
   "metadata": {},
   "outputs": [
    {
     "data": {
      "text/html": [
       "<div>\n",
       "<style scoped>\n",
       "    .dataframe tbody tr th:only-of-type {\n",
       "        vertical-align: middle;\n",
       "    }\n",
       "\n",
       "    .dataframe tbody tr th {\n",
       "        vertical-align: top;\n",
       "    }\n",
       "\n",
       "    .dataframe thead th {\n",
       "        text-align: right;\n",
       "    }\n",
       "</style>\n",
       "<table border=\"1\" class=\"dataframe\">\n",
       "  <thead>\n",
       "    <tr style=\"text-align: right;\">\n",
       "      <th></th>\n",
       "      <th>review_id</th>\n",
       "      <th>star_rating</th>\n",
       "      <th>helpful_votes</th>\n",
       "      <th>total_votes</th>\n",
       "      <th>vine</th>\n",
       "      <th>verified_purchase</th>\n",
       "    </tr>\n",
       "  </thead>\n",
       "  <tbody>\n",
       "    <tr>\n",
       "      <th>55</th>\n",
       "      <td>R4PKAZRQJJX14</td>\n",
       "      <td>1</td>\n",
       "      <td>21</td>\n",
       "      <td>34</td>\n",
       "      <td>N</td>\n",
       "      <td>N</td>\n",
       "    </tr>\n",
       "    <tr>\n",
       "      <th>74</th>\n",
       "      <td>R2CI0Y288CC7E2</td>\n",
       "      <td>1</td>\n",
       "      <td>21</td>\n",
       "      <td>35</td>\n",
       "      <td>N</td>\n",
       "      <td>Y</td>\n",
       "    </tr>\n",
       "    <tr>\n",
       "      <th>209</th>\n",
       "      <td>R127WEQY2FM1T3</td>\n",
       "      <td>1</td>\n",
       "      <td>147</td>\n",
       "      <td>175</td>\n",
       "      <td>N</td>\n",
       "      <td>Y</td>\n",
       "    </tr>\n",
       "    <tr>\n",
       "      <th>483</th>\n",
       "      <td>R2FJ94555FZH32</td>\n",
       "      <td>2</td>\n",
       "      <td>55</td>\n",
       "      <td>60</td>\n",
       "      <td>N</td>\n",
       "      <td>N</td>\n",
       "    </tr>\n",
       "    <tr>\n",
       "      <th>537</th>\n",
       "      <td>R1U3AR67RE273L</td>\n",
       "      <td>1</td>\n",
       "      <td>51</td>\n",
       "      <td>65</td>\n",
       "      <td>N</td>\n",
       "      <td>Y</td>\n",
       "    </tr>\n",
       "  </tbody>\n",
       "</table>\n",
       "</div>"
      ],
      "text/plain": [
       "          review_id  star_rating  helpful_votes  total_votes vine  \\\n",
       "55    R4PKAZRQJJX14            1             21           34    N   \n",
       "74   R2CI0Y288CC7E2            1             21           35    N   \n",
       "209  R127WEQY2FM1T3            1            147          175    N   \n",
       "483  R2FJ94555FZH32            2             55           60    N   \n",
       "537  R1U3AR67RE273L            1             51           65    N   \n",
       "\n",
       "    verified_purchase  \n",
       "55                  N  \n",
       "74                  Y  \n",
       "209                 Y  \n",
       "483                 N  \n",
       "537                 Y  "
      ]
     },
     "execution_count": 5,
     "metadata": {},
     "output_type": "execute_result"
    }
   ],
   "source": [
    "helpful_votes = filtered_vine_df.loc[filtered_vine_df[\"helpful_votes\"] / filtered_vine_df[\"total_votes\"] >= 0.5]\n",
    "helpful_votes.head()"
   ]
  },
  {
   "cell_type": "code",
   "execution_count": 6,
   "metadata": {},
   "outputs": [
    {
     "data": {
      "text/html": [
       "<div>\n",
       "<style scoped>\n",
       "    .dataframe tbody tr th:only-of-type {\n",
       "        vertical-align: middle;\n",
       "    }\n",
       "\n",
       "    .dataframe tbody tr th {\n",
       "        vertical-align: top;\n",
       "    }\n",
       "\n",
       "    .dataframe thead th {\n",
       "        text-align: right;\n",
       "    }\n",
       "</style>\n",
       "<table border=\"1\" class=\"dataframe\">\n",
       "  <thead>\n",
       "    <tr style=\"text-align: right;\">\n",
       "      <th></th>\n",
       "      <th>review_id</th>\n",
       "      <th>star_rating</th>\n",
       "      <th>helpful_votes</th>\n",
       "      <th>total_votes</th>\n",
       "      <th>vine</th>\n",
       "      <th>verified_purchase</th>\n",
       "    </tr>\n",
       "  </thead>\n",
       "  <tbody>\n",
       "    <tr>\n",
       "      <th>32611</th>\n",
       "      <td>R3KKUSGFZWSUIY</td>\n",
       "      <td>5</td>\n",
       "      <td>56</td>\n",
       "      <td>63</td>\n",
       "      <td>Y</td>\n",
       "      <td>N</td>\n",
       "    </tr>\n",
       "    <tr>\n",
       "      <th>33112</th>\n",
       "      <td>R10FO5UKKVZBK2</td>\n",
       "      <td>3</td>\n",
       "      <td>23</td>\n",
       "      <td>23</td>\n",
       "      <td>Y</td>\n",
       "      <td>N</td>\n",
       "    </tr>\n",
       "    <tr>\n",
       "      <th>69680</th>\n",
       "      <td>RM4KSGEOR7MU1</td>\n",
       "      <td>5</td>\n",
       "      <td>19</td>\n",
       "      <td>24</td>\n",
       "      <td>Y</td>\n",
       "      <td>N</td>\n",
       "    </tr>\n",
       "    <tr>\n",
       "      <th>155361</th>\n",
       "      <td>RG7VRMYLEXD23</td>\n",
       "      <td>4</td>\n",
       "      <td>22</td>\n",
       "      <td>26</td>\n",
       "      <td>Y</td>\n",
       "      <td>N</td>\n",
       "    </tr>\n",
       "    <tr>\n",
       "      <th>239327</th>\n",
       "      <td>R11O4YSCPSNL6L</td>\n",
       "      <td>3</td>\n",
       "      <td>20</td>\n",
       "      <td>26</td>\n",
       "      <td>Y</td>\n",
       "      <td>N</td>\n",
       "    </tr>\n",
       "  </tbody>\n",
       "</table>\n",
       "</div>"
      ],
      "text/plain": [
       "             review_id  star_rating  helpful_votes  total_votes vine  \\\n",
       "32611   R3KKUSGFZWSUIY            5             56           63    Y   \n",
       "33112   R10FO5UKKVZBK2            3             23           23    Y   \n",
       "69680    RM4KSGEOR7MU1            5             19           24    Y   \n",
       "155361   RG7VRMYLEXD23            4             22           26    Y   \n",
       "239327  R11O4YSCPSNL6L            3             20           26    Y   \n",
       "\n",
       "       verified_purchase  \n",
       "32611                  N  \n",
       "33112                  N  \n",
       "69680                  N  \n",
       "155361                 N  \n",
       "239327                 N  "
      ]
     },
     "execution_count": 6,
     "metadata": {},
     "output_type": "execute_result"
    }
   ],
   "source": [
    "# separate reviews into ones written as part of the vine program (paid) and ones not (unpaid)\n",
    "paid_review = helpful_votes.loc[helpful_votes[\"vine\"] == \"Y\"]\n",
    "unpaid_review = helpful_votes.loc[helpful_votes[\"vine\"] == \"N\"]\n",
    "paid_review.head()"
   ]
  },
  {
   "cell_type": "code",
   "execution_count": 7,
   "metadata": {},
   "outputs": [
    {
     "data": {
      "text/html": [
       "<div>\n",
       "<style scoped>\n",
       "    .dataframe tbody tr th:only-of-type {\n",
       "        vertical-align: middle;\n",
       "    }\n",
       "\n",
       "    .dataframe tbody tr th {\n",
       "        vertical-align: top;\n",
       "    }\n",
       "\n",
       "    .dataframe thead th {\n",
       "        text-align: right;\n",
       "    }\n",
       "</style>\n",
       "<table border=\"1\" class=\"dataframe\">\n",
       "  <thead>\n",
       "    <tr style=\"text-align: right;\">\n",
       "      <th></th>\n",
       "      <th>review_id</th>\n",
       "      <th>star_rating</th>\n",
       "      <th>helpful_votes</th>\n",
       "      <th>total_votes</th>\n",
       "      <th>vine</th>\n",
       "      <th>verified_purchase</th>\n",
       "    </tr>\n",
       "  </thead>\n",
       "  <tbody>\n",
       "    <tr>\n",
       "      <th>55</th>\n",
       "      <td>R4PKAZRQJJX14</td>\n",
       "      <td>1</td>\n",
       "      <td>21</td>\n",
       "      <td>34</td>\n",
       "      <td>N</td>\n",
       "      <td>N</td>\n",
       "    </tr>\n",
       "    <tr>\n",
       "      <th>74</th>\n",
       "      <td>R2CI0Y288CC7E2</td>\n",
       "      <td>1</td>\n",
       "      <td>21</td>\n",
       "      <td>35</td>\n",
       "      <td>N</td>\n",
       "      <td>Y</td>\n",
       "    </tr>\n",
       "    <tr>\n",
       "      <th>209</th>\n",
       "      <td>R127WEQY2FM1T3</td>\n",
       "      <td>1</td>\n",
       "      <td>147</td>\n",
       "      <td>175</td>\n",
       "      <td>N</td>\n",
       "      <td>Y</td>\n",
       "    </tr>\n",
       "    <tr>\n",
       "      <th>483</th>\n",
       "      <td>R2FJ94555FZH32</td>\n",
       "      <td>2</td>\n",
       "      <td>55</td>\n",
       "      <td>60</td>\n",
       "      <td>N</td>\n",
       "      <td>N</td>\n",
       "    </tr>\n",
       "    <tr>\n",
       "      <th>537</th>\n",
       "      <td>R1U3AR67RE273L</td>\n",
       "      <td>1</td>\n",
       "      <td>51</td>\n",
       "      <td>65</td>\n",
       "      <td>N</td>\n",
       "      <td>Y</td>\n",
       "    </tr>\n",
       "  </tbody>\n",
       "</table>\n",
       "</div>"
      ],
      "text/plain": [
       "          review_id  star_rating  helpful_votes  total_votes vine  \\\n",
       "55    R4PKAZRQJJX14            1             21           34    N   \n",
       "74   R2CI0Y288CC7E2            1             21           35    N   \n",
       "209  R127WEQY2FM1T3            1            147          175    N   \n",
       "483  R2FJ94555FZH32            2             55           60    N   \n",
       "537  R1U3AR67RE273L            1             51           65    N   \n",
       "\n",
       "    verified_purchase  \n",
       "55                  N  \n",
       "74                  Y  \n",
       "209                 Y  \n",
       "483                 N  \n",
       "537                 Y  "
      ]
     },
     "execution_count": 7,
     "metadata": {},
     "output_type": "execute_result"
    }
   ],
   "source": [
    "unpaid_review.head()"
   ]
  },
  {
   "cell_type": "code",
   "execution_count": 9,
   "metadata": {},
   "outputs": [
    {
     "data": {
      "text/plain": [
       "94"
      ]
     },
     "execution_count": 9,
     "metadata": {},
     "output_type": "execute_result"
    }
   ],
   "source": [
    "# determine count of paid reviews\n",
    "paid_review_count = paid_review[\"review_id\"].count()\n",
    "paid_review_count"
   ]
  },
  {
   "cell_type": "code",
   "execution_count": 10,
   "metadata": {},
   "outputs": [
    {
     "data": {
      "text/plain": [
       "40471"
      ]
     },
     "execution_count": 10,
     "metadata": {},
     "output_type": "execute_result"
    }
   ],
   "source": [
    "# determine count of unpaid reviews\n",
    "unpaid_review_count = unpaid_review[\"review_id\"].count()\n",
    "unpaid_review_count"
   ]
  },
  {
   "cell_type": "code",
   "execution_count": 13,
   "metadata": {},
   "outputs": [
    {
     "data": {
      "text/plain": [
       "48"
      ]
     },
     "execution_count": 13,
     "metadata": {},
     "output_type": "execute_result"
    }
   ],
   "source": [
    "# determine count of 5-star paid reviews\n",
    "paid_5star = paid_review.loc[paid_review[\"star_rating\"] == 5].count()[\"review_id\"]\n",
    "paid_5star"
   ]
  },
  {
   "cell_type": "code",
   "execution_count": 14,
   "metadata": {},
   "outputs": [
    {
     "data": {
      "text/plain": [
       "15663"
      ]
     },
     "execution_count": 14,
     "metadata": {},
     "output_type": "execute_result"
    }
   ],
   "source": [
    "# determine count of 5-star unpaid reviews\n",
    "unpaid_5star = unpaid_review.loc[unpaid_review[\"star_rating\"] == 5].count()[\"review_id\"]\n",
    "unpaid_5star"
   ]
  },
  {
   "cell_type": "code",
   "execution_count": 16,
   "metadata": {},
   "outputs": [
    {
     "data": {
      "text/plain": [
       "51.06382978723404"
      ]
     },
     "execution_count": 16,
     "metadata": {},
     "output_type": "execute_result"
    }
   ],
   "source": [
    "# determine percent of 5-star reviews that were paid reviews\n",
    "paid_5star_percent = paid_5star / paid_review_count *100\n",
    "paid_5star_percent"
   ]
  },
  {
   "cell_type": "code",
   "execution_count": 17,
   "metadata": {},
   "outputs": [
    {
     "data": {
      "text/plain": [
       "38.701786464381904"
      ]
     },
     "execution_count": 17,
     "metadata": {},
     "output_type": "execute_result"
    }
   ],
   "source": [
    "# determine percent of 5-star reviews that were unpaid reviews\n",
    "unpaid_5star_percent = unpaid_5star / unpaid_review_count *100\n",
    "unpaid_5star_percent"
   ]
  }
 ],
 "metadata": {
  "interpreter": {
   "hash": "fd8797fe0357a6e6c37e72059b04bb14169099c2232968de211acdc68951ce05"
  },
  "kernelspec": {
   "display_name": "Python 3.7.10 64-bit ('PythonData': conda)",
   "name": "python3"
  },
  "language_info": {
   "codemirror_mode": {
    "name": "ipython",
    "version": 3
   },
   "file_extension": ".py",
   "mimetype": "text/x-python",
   "name": "python",
   "nbconvert_exporter": "python",
   "pygments_lexer": "ipython3",
   "version": "3.7.10"
  },
  "orig_nbformat": 4
 },
 "nbformat": 4,
 "nbformat_minor": 2
}
